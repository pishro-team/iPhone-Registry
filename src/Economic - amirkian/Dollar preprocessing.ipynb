{
 "cells": [
  {
   "cell_type": "markdown",
   "metadata": {},
   "source": [
    "Reading the initial dollar dataset"
   ]
  },
  {
   "cell_type": "code",
   "execution_count": null,
   "metadata": {},
   "outputs": [],
   "source": [
    "import pandas as pd\n",
    "\n",
    "file_path = \"registery_dollar_1738332855.csv\"\n",
    "df = pd.read_csv(file_path)"
   ]
  },
  {
   "cell_type": "markdown",
   "metadata": {},
   "source": [
    "Function to remove emojis, symbols and extras from text using regex"
   ]
  },
  {
   "cell_type": "code",
   "execution_count": null,
   "metadata": {},
   "outputs": [],
   "source": [
    "import re\n",
    "\n",
    "def remove_emojis(text):\n",
    "    emoji_pattern = re.compile(\"[\"\n",
    "                           u\"\\U0001F600-\\U0001F64F\"  # emoticons\n",
    "                           u\"\\U0001F300-\\U0001F5FF\"  # symbols & pictographs\n",
    "                           u\"\\U0001F680-\\U0001F6FF\"  # transport & map symbols\n",
    "                           u\"\\U0001F1E0-\\U0001F1FF\"  # flags (iOS)\n",
    "                           u\"\\u2600-\\u26FF\"          # Miscellaneous Symbols\n",
    "                           u\"\\u2700-\\u27BF\"          # Dingbats\n",
    "                           \"]+\", flags=re.UNICODE)\n",
    "    text = emoji_pattern.sub(r'', text)\n",
    "    return text.replace(\"تومان\", \"\").strip()"
   ]
  },
  {
   "cell_type": "markdown",
   "metadata": {},
   "source": [
    "Function to convert miladi date to jalali date"
   ]
  },
  {
   "cell_type": "code",
   "execution_count": null,
   "metadata": {},
   "outputs": [],
   "source": [
    "from persiantools.jdatetime import JalaliDate\n",
    "from datetime import date\n",
    "\n",
    "def convert_miladi_to_jalali(d):\n",
    "    year, month, day = map(int, d.split(\"-\"))\n",
    "    return JalaliDate.to_jalali(year, month, day).strftime(\"%Y-%m-%d\")"
   ]
  },
  {
   "cell_type": "markdown",
   "metadata": {},
   "source": [
    "Running the above functions row by row on the dataset and categorizing the relevant indices and prices"
   ]
  },
  {
   "cell_type": "code",
   "execution_count": null,
   "metadata": {},
   "outputs": [],
   "source": [
    "data = []\n",
    "\n",
    "for row in df.itertuples(index=False):\n",
    "    description = row[0].split('\\n \\n')\n",
    "    year, month, day = map(int, row[2].split(\"-\"))\n",
    "    s = {\"time-date-jl\": convert_miladi_to_jalali(row[2]), \"time-date\": date(year,month,day), \"time-time\": row[3]}\n",
    "    for cell in description:\n",
    "        if ':' not in cell:\n",
    "            break\n",
    "        cell = remove_emojis(cell)\n",
    "        cell = cell.split(':')\n",
    "        s[cell[0].strip()] = cell[1].replace(',','').strip()\n",
    "\n",
    "    data.append(s)"
   ]
  },
  {
   "cell_type": "markdown",
   "metadata": {},
   "source": [
    "Converting the collected data into a dataframe and loading it into Excel"
   ]
  },
  {
   "cell_type": "code",
   "execution_count": null,
   "metadata": {},
   "outputs": [],
   "source": [
    "result_df = pd.DataFrame(data)\n",
    "result_df.to_excel(\"dollar.xlsx\", index=False)"
   ]
  }
 ],
 "metadata": {
  "kernelspec": {
   "display_name": "Python 3",
   "language": "python",
   "name": "python3"
  },
  "language_info": {
   "codemirror_mode": {
    "name": "ipython",
    "version": 3
   },
   "file_extension": ".py",
   "mimetype": "text/x-python",
   "name": "python",
   "nbconvert_exporter": "python",
   "pygments_lexer": "ipython3",
   "version": "3.13.0"
  }
 },
 "nbformat": 4,
 "nbformat_minor": 2
}
